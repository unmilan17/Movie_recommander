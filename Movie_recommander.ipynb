{
 "cells": [
  {
   "cell_type": "code",
   "execution_count": 1,
   "id": "ca3c936d-7712-4963-b740-ca14929aa834",
   "metadata": {},
   "outputs": [],
   "source": [
    "import tensorflow as tf\n",
    "import numpy as np\n",
    "import pandas as pd\n",
    "import matplotlib.pyplot as plt\n",
    "from sklearn.model_selection import train_test_split\n",
    "\n",
    "from tensorflow.keras.preprocessing.text import Tokenizer\n",
    "from tensorflow.keras.preprocessing.sequence import pad_sequences\n",
    "from tensorflow.keras.layers import Dense, Input, GlobalMaxPooling1D\n",
    "from tensorflow.keras.layers import LSTM, Embedding, Flatten,  Concatenate\n",
    "from tensorflow.keras.models import Model\n",
    "\n",
    "from sklearn.utils import shuffle"
   ]
  },
  {
   "cell_type": "code",
   "execution_count": 2,
   "id": "0909a06e-0835-41cb-9082-0a28338209ed",
   "metadata": {},
   "outputs": [],
   "source": [
    "import requests\n",
    "\n",
    "url = 'http://files.grouplens.org/datasets/movielens/ml-20m.zip'\n",
    "response = requests.get(url)"
   ]
  },
  {
   "cell_type": "code",
   "execution_count": 5,
   "id": "d3403e20-2d63-4450-b3cb-b8c4b2a93cae",
   "metadata": {},
   "outputs": [
    {
     "name": "stdout",
     "output_type": "stream",
     "text": [
      "['ml-20m/', 'ml-20m/genome-scores.csv', 'ml-20m/genome-tags.csv', 'ml-20m/links.csv', 'ml-20m/movies.csv', 'ml-20m/ratings.csv', 'ml-20m/README.txt', 'ml-20m/tags.csv']\n",
      "   userId  movieId  rating   timestamp\n",
      "0       1        2     3.5  1112486027\n",
      "1       1       29     3.5  1112484676\n",
      "2       1       32     3.5  1112484819\n",
      "3       1       47     3.5  1112484727\n",
      "4       1       50     3.5  1112484580\n"
     ]
    }
   ],
   "source": [
    "import zipfile\n",
    "import io\n",
    "\n",
    "with zipfile.ZipFile(io.BytesIO(response.content)) as z:\n",
    "    print(z.namelist())  \n",
    "\n",
    "    with z.open('ml-20m/ratings.csv') as ratings_file:\n",
    "        df = pd.read_csv(ratings_file)\n",
    "\n",
    "print(df.head())"
   ]
  },
  {
   "cell_type": "code",
   "execution_count": 16,
   "id": "7c8600c9-d430-4bd8-ac5f-a17f2b497a4b",
   "metadata": {},
   "outputs": [],
   "source": [
    "df.userId = pd.Categorical(df.userId)\n",
    "df['new_user_id'] = df.userId.cat.codes"
   ]
  },
  {
   "cell_type": "code",
   "execution_count": 17,
   "id": "e7a7b1e5-d906-4e09-b28b-f7f3398385d1",
   "metadata": {},
   "outputs": [],
   "source": [
    "df.movieId = pd.Categorical(df.movieId)\n",
    "df['new_movie_id'] = df.movieId.cat.codes"
   ]
  },
  {
   "cell_type": "code",
   "execution_count": 18,
   "id": "d77954b3-1270-4466-9afb-0cf4ed7f97c7",
   "metadata": {},
   "outputs": [],
   "source": [
    "user_ids = df['new_user_id'].values\n",
    "movie_ids = df['new_movie_id'].values\n",
    "ratings = df['rating'].values"
   ]
  },
  {
   "cell_type": "code",
   "execution_count": 11,
   "id": "7aff867c-d34c-4f42-b600-05fa6e3c10ad",
   "metadata": {},
   "outputs": [],
   "source": [
    "N = len(set(user_ids))\n",
    "M = len(set(movie_ids))\n",
    "K = 10"
   ]
  },
  {
   "cell_type": "code",
   "execution_count": 19,
   "id": "b38b89ba-731c-4af3-890a-1b9a6d6644f7",
   "metadata": {},
   "outputs": [],
   "source": [
    "u = Input(shape=(1,))\n",
    "\n",
    "m = Input(shape=(1,))\n",
    "\n",
    "u_emb = Embedding(N, K)(u) \n",
    "\n",
    "m_emb = Embedding(M, K)(m)\n",
    "\n",
    "u_emb = Flatten()(u_emb) \n",
    "m_emb = Flatten()(m_emb) \n",
    "\n",
    "x = Concatenate()([u_emb, m_emb]) \n",
    "\n",
    "x = Dense(1024, activation='relu')(x)\n",
    "x = Dense(1)(x)"
   ]
  },
  {
   "cell_type": "code",
   "execution_count": 21,
   "id": "1193988b-39c4-4ec2-8ac7-2ed7aa934d42",
   "metadata": {},
   "outputs": [],
   "source": [
    "model = Model(inputs=[u, m], outputs=x)\n",
    "model.compile(\n",
    "  loss='mse',\n",
    "  optimizer=tf.keras.optimizers.SGD(learning_rate=0.08, momentum=0.9),\n",
    ")"
   ]
  },
  {
   "cell_type": "code",
   "execution_count": 23,
   "id": "75471c80-6a31-4023-992b-bbc7224cea9c",
   "metadata": {},
   "outputs": [],
   "source": [
    "user_ids, movie_ids, ratings = shuffle(user_ids, movie_ids, ratings)\n",
    "Ntrain = int(0.8 * len(ratings))\n",
    "train_user = user_ids[:Ntrain]\n",
    "train_movie = movie_ids[:Ntrain]\n",
    "train_ratings = ratings[:Ntrain]\n",
    "\n",
    "test_user = user_ids[Ntrain:]\n",
    "test_movie = movie_ids[Ntrain:]\n",
    "test_ratings = ratings[Ntrain:]\n",
    "\n",
    "\n",
    "avg_rating = train_ratings.mean()\n",
    "train_ratings = train_ratings - avg_rating\n",
    "test_ratings = test_ratings - avg_rating"
   ]
  },
  {
   "cell_type": "code",
   "execution_count": 24,
   "id": "5b1df2a4-cf8b-4988-970b-e8f76eb31c5b",
   "metadata": {},
   "outputs": [
    {
     "name": "stdout",
     "output_type": "stream",
     "text": [
      "Epoch 1/25\n",
      "15626/15626 - 134s - 9ms/step - loss: 0.7656 - val_loss: 0.7166\n",
      "Epoch 2/25\n",
      "15626/15626 - 134s - 9ms/step - loss: 0.6994 - val_loss: 0.6957\n",
      "Epoch 3/25\n",
      "15626/15626 - 134s - 9ms/step - loss: 0.6784 - val_loss: 0.6829\n",
      "Epoch 4/25\n",
      "15626/15626 - 132s - 8ms/step - loss: 0.6635 - val_loss: 0.6733\n",
      "Epoch 5/25\n",
      "15626/15626 - 130s - 8ms/step - loss: 0.6537 - val_loss: 0.6684\n",
      "Epoch 6/25\n",
      "15626/15626 - 131s - 8ms/step - loss: 0.6419 - val_loss: 0.6613\n",
      "Epoch 7/25\n",
      "15626/15626 - 131s - 8ms/step - loss: 0.6256 - val_loss: 0.6518\n",
      "Epoch 8/25\n",
      "15626/15626 - 127s - 8ms/step - loss: 0.6107 - val_loss: 0.6419\n",
      "Epoch 9/25\n",
      "15626/15626 - 128s - 8ms/step - loss: 0.5999 - val_loss: 0.6370\n",
      "Epoch 10/25\n",
      "15626/15626 - 128s - 8ms/step - loss: 0.5908 - val_loss: 0.6343\n",
      "Epoch 11/25\n",
      "15626/15626 - 131s - 8ms/step - loss: 0.5826 - val_loss: 0.6335\n",
      "Epoch 12/25\n",
      "15626/15626 - 132s - 8ms/step - loss: 0.5752 - val_loss: 0.6336\n",
      "Epoch 13/25\n",
      "15626/15626 - 135s - 9ms/step - loss: 0.5686 - val_loss: 0.6271\n",
      "Epoch 14/25\n",
      "15626/15626 - 136s - 9ms/step - loss: 0.5629 - val_loss: 0.6267\n",
      "Epoch 15/25\n",
      "15626/15626 - 138s - 9ms/step - loss: 0.5579 - val_loss: 0.6248\n",
      "Epoch 16/25\n",
      "15626/15626 - 133s - 8ms/step - loss: 0.5537 - val_loss: 0.6269\n",
      "Epoch 17/25\n",
      "15626/15626 - 129s - 8ms/step - loss: 0.5500 - val_loss: 0.6285\n",
      "Epoch 18/25\n",
      "15626/15626 - 128s - 8ms/step - loss: 0.5468 - val_loss: 0.6239\n",
      "Epoch 19/25\n",
      "15626/15626 - 126s - 8ms/step - loss: 0.5439 - val_loss: 0.6240\n",
      "Epoch 20/25\n",
      "15626/15626 - 127s - 8ms/step - loss: 0.5414 - val_loss: 0.6227\n",
      "Epoch 21/25\n",
      "15626/15626 - 126s - 8ms/step - loss: 0.5391 - val_loss: 0.6264\n",
      "Epoch 22/25\n",
      "15626/15626 - 127s - 8ms/step - loss: 0.5370 - val_loss: 0.6241\n",
      "Epoch 23/25\n",
      "15626/15626 - 152s - 10ms/step - loss: 0.5352 - val_loss: 0.6214\n",
      "Epoch 24/25\n",
      "15626/15626 - 162s - 10ms/step - loss: 0.5334 - val_loss: 0.6252\n",
      "Epoch 25/25\n",
      "15626/15626 - 152s - 10ms/step - loss: 0.5319 - val_loss: 0.6227\n"
     ]
    }
   ],
   "source": [
    "r = model.fit(\n",
    "  x=[train_user, train_movie],\n",
    "  y=train_ratings,\n",
    "  epochs=25,\n",
    "  batch_size=1024,\n",
    "  verbose=2, \n",
    "  validation_data=([test_user, test_movie], test_ratings),\n",
    ")"
   ]
  },
  {
   "cell_type": "code",
   "execution_count": 25,
   "id": "dc2431b0-2304-4595-9828-ca043ed7d7ca",
   "metadata": {},
   "outputs": [
    {
     "data": {
      "image/png": "[encoded data removed]",
      "text/plain": [
       "<Figure size 640x480 with 1 Axes>"
      ]
     },
     "metadata": {},
     "output_type": "display_data"
    }
   ],
   "source": [
    "plt.plot(r.history['loss'], label=\"train loss\")\n",
    "plt.plot(r.history['val_loss'], label=\"val loss\")\n",
    "plt.legend()\n",
    "plt.show()"
   ]
  },
  {
   "cell_type": "code",
   "execution_count": 28,
   "id": "c10c6f73-c8a6-4b3f-ab68-f42f880cb3cc",
   "metadata": {},
   "outputs": [],
   "source": [
    "n = r.history['val_loss'][-1]"
   ]
  },
  {
   "cell_type": "code",
   "execution_count": 29,
   "id": "716f541c-a270-46e6-8362-aef94e209094",
   "metadata": {},
   "outputs": [
    {
     "data": {
      "text/plain": [
       "0.7891268562284186"
      ]
     },
     "execution_count": 29,
     "metadata": {},
     "output_type": "execute_result"
    }
   ],
   "source": [
    "np.sqrt(n)"
   ]
  },
  {
   "cell_type": "code",
   "execution_count": null,
   "id": "b641cae2-9568-4e20-b809-653f0a624f6b",
   "metadata": {},
   "outputs": [],
   "source": []
  }
 ],
 "metadata": {
  "kernelspec": {
   "display_name": "tfkernel",
   "language": "python",
   "name": "tfkernel"
  },
  "language_info": {
   "codemirror_mode": {
    "name": "ipython",
    "version": 3
   },
   "file_extension": ".py",
   "mimetype": "text/x-python",
   "name": "python",
   "nbconvert_exporter": "python",
   "pygments_lexer": "ipython3",
   "version": "3.12.2"
  }
 },
 "nbformat": 4,
 "nbformat_minor": 5
}
